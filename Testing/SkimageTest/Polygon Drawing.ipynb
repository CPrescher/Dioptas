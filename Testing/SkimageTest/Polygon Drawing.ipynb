{
 "metadata": {
  "name": "",
  "signature": "sha256:88f846365bcc4e95b53a5f7b6947e30e331074d6f9779afa03ae23e704d42fc7"
 },
 "nbformat": 3,
 "nbformat_minor": 0,
 "worksheets": [
  {
   "cells": [
    {
     "cell_type": "code",
     "collapsed": false,
     "input": [
      "import numpy as np\n",
      "from skimage.draw import polygon\n",
      "img = np.zeros((10,10), dtype=np.uint8)\n",
      "x = np.array([0.5,7,4,1])\n",
      "y = np.array([1,2,8,1])\n",
      "\n",
      "\n",
      "rr, cc = polygon(y,x)\n",
      "\n",
      "print rr\n",
      "\n",
      "img[rr, cc] = 1\n",
      "img"
     ],
     "language": "python",
     "metadata": {},
     "outputs": [
      {
       "output_type": "stream",
       "stream": "stdout",
       "text": [
        "[2 2 2 2 2 3 3 3 3 3 4 4 4 5 5 5 6 7]\n"
       ]
      },
      {
       "metadata": {},
       "output_type": "pyout",
       "prompt_number": 7,
       "text": [
        "array([[0, 0, 0, 0, 0, 0, 0, 0, 0, 0],\n",
        "       [0, 0, 0, 0, 0, 0, 0, 0, 0, 0],\n",
        "       [0, 0, 1, 1, 1, 1, 1, 0, 0, 0],\n",
        "       [0, 0, 1, 1, 1, 1, 1, 0, 0, 0],\n",
        "       [0, 0, 0, 1, 1, 1, 0, 0, 0, 0],\n",
        "       [0, 0, 0, 1, 1, 1, 0, 0, 0, 0],\n",
        "       [0, 0, 0, 0, 1, 0, 0, 0, 0, 0],\n",
        "       [0, 0, 0, 0, 1, 0, 0, 0, 0, 0],\n",
        "       [0, 0, 0, 0, 0, 0, 0, 0, 0, 0],\n",
        "       [0, 0, 0, 0, 0, 0, 0, 0, 0, 0]], dtype=uint8)"
       ]
      }
     ],
     "prompt_number": 7
    },
    {
     "cell_type": "markdown",
     "metadata": {},
     "source": [
      "Testing the spead influence of the \"size\" of the matrix:"
     ]
    },
    {
     "cell_type": "code",
     "collapsed": false,
     "input": [
      "import time\n",
      "num  = 20\n",
      "for n in xrange(num):\n",
      "    t1 = time.time()\n",
      "    size = 100*n\n",
      "    img = np.zeros((size, size), dtype=np.uint8)\n",
      "    x = np.array([0.5,7,4,1])+size/.4\n",
      "    y = np.array([1,2,8,1])+size/.4\n",
      "    rr, cc = polygon(y,x)\n",
      "    print \"size: %s  time: %s s\" %(size, (time.time()-t1))"
     ],
     "language": "python",
     "metadata": {},
     "outputs": [
      {
       "output_type": "stream",
       "stream": "stdout",
       "text": [
        "size: 0  time: 0.00188207626343 s\n",
        "size: 100  time: 0.000145196914673 s\n",
        "size: 200  time: 7.31945037842e-05 s\n",
        "size: 300  time: 0.000112056732178 s\n",
        "size: 400  time: 0.000107049942017 s\n",
        "size: 500  time: 5.00679016113e-05 s\n",
        "size: 600  time: 5.50746917725e-05 s\n",
        "size: 700  time: 0.00919795036316 s\n",
        "size: 800  time: 0.00915217399597 s\n",
        "size: 900  time: 0.000124931335449 s\n",
        "size: 1000  time: 0.00735902786255 s\n",
        "size: 1100  time: 0.00716114044189 s\n",
        "size: 1200  time: 8.48770141602e-05 s\n",
        "size: 1300  time: 0.000107049942017 s\n",
        "size: 1400  time: 0.000393152236938 s\n",
        "size: 1500  time: 0.000432014465332 s\n",
        "size: 1600  time: 0.000185012817383 s\n",
        "size: 1700  time: 0.000201940536499 s\n",
        "size: 1800  time: 0.000214815139771 s\n",
        "size: 1900  time: 0.000246047973633 s\n"
       ]
      }
     ],
     "prompt_number": 14
    },
    {
     "cell_type": "code",
     "collapsed": false,
     "input": [],
     "language": "python",
     "metadata": {},
     "outputs": []
    }
   ],
   "metadata": {}
  }
 ]
}